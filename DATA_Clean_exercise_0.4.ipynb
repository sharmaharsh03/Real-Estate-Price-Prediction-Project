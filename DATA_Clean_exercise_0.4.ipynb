{
 "cells": [
  {
   "cell_type": "code",
   "execution_count": 1,
   "id": "743cac32",
   "metadata": {},
   "outputs": [],
   "source": [
    "# import the important library \n",
    "import numpy as np\n",
    "import pandas as pd"
   ]
  },
  {
   "cell_type": "code",
   "execution_count": 2,
   "id": "76247481",
   "metadata": {},
   "outputs": [
    {
     "data": {
      "text/html": [
       "<div>\n",
       "<style scoped>\n",
       "    .dataframe tbody tr th:only-of-type {\n",
       "        vertical-align: middle;\n",
       "    }\n",
       "\n",
       "    .dataframe tbody tr th {\n",
       "        vertical-align: top;\n",
       "    }\n",
       "\n",
       "    .dataframe thead th {\n",
       "        text-align: right;\n",
       "    }\n",
       "</style>\n",
       "<table border=\"1\" class=\"dataframe\">\n",
       "  <thead>\n",
       "    <tr style=\"text-align: right;\">\n",
       "      <th></th>\n",
       "      <th>Unnamed: 0</th>\n",
       "      <th>State</th>\n",
       "      <th>Zip</th>\n",
       "    </tr>\n",
       "  </thead>\n",
       "  <tbody>\n",
       "    <tr>\n",
       "      <th>0</th>\n",
       "      <td>1</td>\n",
       "      <td>ANDHRA PRADESH</td>\n",
       "      <td>NaN</td>\n",
       "    </tr>\n",
       "    <tr>\n",
       "      <th>1</th>\n",
       "      <td>2</td>\n",
       "      <td>ANDHRA PRADESH</td>\n",
       "      <td>NaN</td>\n",
       "    </tr>\n",
       "    <tr>\n",
       "      <th>2</th>\n",
       "      <td>3</td>\n",
       "      <td>ANDHRA PRADESH</td>\n",
       "      <td>500 762</td>\n",
       "    </tr>\n",
       "    <tr>\n",
       "      <th>3</th>\n",
       "      <td>4</td>\n",
       "      <td>ANDHRA PRADESH</td>\n",
       "      <td>NaN</td>\n",
       "    </tr>\n",
       "    <tr>\n",
       "      <th>4</th>\n",
       "      <td>5</td>\n",
       "      <td>ANDHRA PRADESH</td>\n",
       "      <td>NaN</td>\n",
       "    </tr>\n",
       "    <tr>\n",
       "      <th>...</th>\n",
       "      <td>...</td>\n",
       "      <td>...</td>\n",
       "      <td>...</td>\n",
       "    </tr>\n",
       "    <tr>\n",
       "      <th>8550</th>\n",
       "      <td>8551</td>\n",
       "      <td>ANDHRA PRADESH</td>\n",
       "      <td>NaN</td>\n",
       "    </tr>\n",
       "    <tr>\n",
       "      <th>8551</th>\n",
       "      <td>8552</td>\n",
       "      <td>ANDHRA PRADESH</td>\n",
       "      <td>NaN</td>\n",
       "    </tr>\n",
       "    <tr>\n",
       "      <th>8552</th>\n",
       "      <td>8553</td>\n",
       "      <td>ANDHRA PRADESH</td>\n",
       "      <td>NaN</td>\n",
       "    </tr>\n",
       "    <tr>\n",
       "      <th>8553</th>\n",
       "      <td>8554</td>\n",
       "      <td>ANDHRA PRADESH</td>\n",
       "      <td>NaN</td>\n",
       "    </tr>\n",
       "    <tr>\n",
       "      <th>8554</th>\n",
       "      <td>8555</td>\n",
       "      <td>ANDHRA PRADESH</td>\n",
       "      <td>NaN</td>\n",
       "    </tr>\n",
       "  </tbody>\n",
       "</table>\n",
       "<p>8555 rows × 3 columns</p>\n",
       "</div>"
      ],
      "text/plain": [
       "      Unnamed: 0           State      Zip\n",
       "0              1  ANDHRA PRADESH      NaN\n",
       "1              2  ANDHRA PRADESH      NaN\n",
       "2              3  ANDHRA PRADESH  500 762\n",
       "3              4  ANDHRA PRADESH      NaN\n",
       "4              5  ANDHRA PRADESH      NaN\n",
       "...          ...             ...      ...\n",
       "8550        8551  ANDHRA PRADESH      NaN\n",
       "8551        8552  ANDHRA PRADESH      NaN\n",
       "8552        8553  ANDHRA PRADESH      NaN\n",
       "8553        8554  ANDHRA PRADESH      NaN\n",
       "8554        8555  ANDHRA PRADESH      NaN\n",
       "\n",
       "[8555 rows x 3 columns]"
      ]
     },
     "execution_count": 2,
     "metadata": {},
     "output_type": "execute_result"
    }
   ],
   "source": [
    "# now read file with the help of Pandas library\n",
    "data = pd.read_csv(\"C:\\\\Users\\\\ccpoint\\\\Downloads\\\\sample_demographic_data.csv\")# store the file in the data varible\n",
    "data # now print "
   ]
  },
  {
   "cell_type": "code",
   "execution_count": 3,
   "id": "c211e264",
   "metadata": {},
   "outputs": [
    {
     "data": {
      "text/plain": [
       "Unnamed: 0       0\n",
       "State         1559\n",
       "Zip           4523\n",
       "dtype: int64"
      ]
     },
     "execution_count": 3,
     "metadata": {},
     "output_type": "execute_result"
    }
   ],
   "source": [
    "data.isna().sum() # check the nan/mising value in the data"
   ]
  },
  {
   "cell_type": "code",
   "execution_count": 4,
   "id": "d5d4b404",
   "metadata": {},
   "outputs": [],
   "source": [
    "# now handle the missing value in the data\n",
    "# remove the row at least the one nan value \n",
    "data=data.dropna()\n"
   ]
  },
  {
   "cell_type": "code",
   "execution_count": 5,
   "id": "3e4397b0",
   "metadata": {},
   "outputs": [
    {
     "data": {
      "text/plain": [
       "Unnamed: 0    0\n",
       "State         0\n",
       "Zip           0\n",
       "dtype: int64"
      ]
     },
     "execution_count": 5,
     "metadata": {},
     "output_type": "execute_result"
    }
   ],
   "source": [
    "data.isna().sum() # again check the nan value in the data"
   ]
  },
  {
   "cell_type": "markdown",
   "id": "4ad8f271",
   "metadata": {},
   "source": [
    "above the result not any missing value in the data"
   ]
  },
  {
   "cell_type": "code",
   "execution_count": 6,
   "id": "84078503",
   "metadata": {},
   "outputs": [
    {
     "data": {
      "text/plain": [
       "count     3021\n",
       "unique    1711\n",
       "top           \n",
       "freq       132\n",
       "Name: Zip, dtype: object"
      ]
     },
     "execution_count": 6,
     "metadata": {},
     "output_type": "execute_result"
    }
   ],
   "source": [
    "data.Zip.describe()"
   ]
  },
  {
   "cell_type": "code",
   "execution_count": 7,
   "id": "e34c7de2",
   "metadata": {},
   "outputs": [
    {
     "data": {
      "text/plain": [
       "array(['500 762', '500457', '505327', ..., '732203', '723151', '585403'],\n",
       "      dtype=object)"
      ]
     },
     "execution_count": 7,
     "metadata": {},
     "output_type": "execute_result"
    }
   ],
   "source": [
    "data.Zip.unique()"
   ]
  },
  {
   "cell_type": "markdown",
   "id": "6f8608eb",
   "metadata": {},
   "source": [
    " in above output some value is wrong as '500 762'  O/P  array([**'500 762'**, '500457', '505327', ..., '732203', '723151', '585403'],"
   ]
  },
  {
   "cell_type": "code",
   "execution_count": 8,
   "id": "0d8d900c",
   "metadata": {},
   "outputs": [],
   "source": [
    "#detect if give value in Zip value i float or not flot \n",
    "def is_int(x): # define a function called is_float\n",
    "    try: # try convert into float\n",
    "        int(x)\n",
    "    except: # otherwise false \n",
    "        return False\n",
    "    return True"
   ]
  },
  {
   "cell_type": "code",
   "execution_count": 9,
   "id": "fe9acdb6",
   "metadata": {},
   "outputs": [
    {
     "data": {
      "text/html": [
       "<div>\n",
       "<style scoped>\n",
       "    .dataframe tbody tr th:only-of-type {\n",
       "        vertical-align: middle;\n",
       "    }\n",
       "\n",
       "    .dataframe tbody tr th {\n",
       "        vertical-align: top;\n",
       "    }\n",
       "\n",
       "    .dataframe thead th {\n",
       "        text-align: right;\n",
       "    }\n",
       "</style>\n",
       "<table border=\"1\" class=\"dataframe\">\n",
       "  <thead>\n",
       "    <tr style=\"text-align: right;\">\n",
       "      <th></th>\n",
       "      <th>Unnamed: 0</th>\n",
       "      <th>State</th>\n",
       "      <th>Zip</th>\n",
       "    </tr>\n",
       "  </thead>\n",
       "  <tbody>\n",
       "    <tr>\n",
       "      <th>2</th>\n",
       "      <td>3</td>\n",
       "      <td>ANDHRA PRADESH</td>\n",
       "      <td>500 762</td>\n",
       "    </tr>\n",
       "    <tr>\n",
       "      <th>25</th>\n",
       "      <td>26</td>\n",
       "      <td>ANDHRA PRADESH</td>\n",
       "      <td>508 213</td>\n",
       "    </tr>\n",
       "    <tr>\n",
       "      <th>28</th>\n",
       "      <td>29</td>\n",
       "      <td>ANDHRA PRADESH</td>\n",
       "      <td>522 020</td>\n",
       "    </tr>\n",
       "    <tr>\n",
       "      <th>33</th>\n",
       "      <td>34</td>\n",
       "      <td>ANDHRA PRADESH</td>\n",
       "      <td>531 163</td>\n",
       "    </tr>\n",
       "    <tr>\n",
       "      <th>34</th>\n",
       "      <td>35</td>\n",
       "      <td>ANDHRA PRADESH</td>\n",
       "      <td>531 163</td>\n",
       "    </tr>\n",
       "    <tr>\n",
       "      <th>...</th>\n",
       "      <td>...</td>\n",
       "      <td>...</td>\n",
       "      <td>...</td>\n",
       "    </tr>\n",
       "    <tr>\n",
       "      <th>6151</th>\n",
       "      <td>6152</td>\n",
       "      <td>ANDHRA PRADESH</td>\n",
       "      <td>515 411</td>\n",
       "    </tr>\n",
       "    <tr>\n",
       "      <th>6204</th>\n",
       "      <td>6205</td>\n",
       "      <td>ANDHRA PRADESH</td>\n",
       "      <td>500 033</td>\n",
       "    </tr>\n",
       "    <tr>\n",
       "      <th>6499</th>\n",
       "      <td>6500</td>\n",
       "      <td>ANDHRA PRADESH</td>\n",
       "      <td>522 414</td>\n",
       "    </tr>\n",
       "    <tr>\n",
       "      <th>6584</th>\n",
       "      <td>6585</td>\n",
       "      <td>ANDHRA PRADESH</td>\n",
       "      <td>500 053</td>\n",
       "    </tr>\n",
       "    <tr>\n",
       "      <th>7045</th>\n",
       "      <td>7046</td>\n",
       "      <td>ANDHRA PRADESH</td>\n",
       "      <td>500 029</td>\n",
       "    </tr>\n",
       "  </tbody>\n",
       "</table>\n",
       "<p>1302 rows × 3 columns</p>\n",
       "</div>"
      ],
      "text/plain": [
       "      Unnamed: 0           State      Zip\n",
       "2              3  ANDHRA PRADESH  500 762\n",
       "25            26  ANDHRA PRADESH  508 213\n",
       "28            29  ANDHRA PRADESH  522 020\n",
       "33            34  ANDHRA PRADESH  531 163\n",
       "34            35  ANDHRA PRADESH  531 163\n",
       "...          ...             ...      ...\n",
       "6151        6152  ANDHRA PRADESH  515 411\n",
       "6204        6205  ANDHRA PRADESH  500 033\n",
       "6499        6500  ANDHRA PRADESH  522 414\n",
       "6584        6585  ANDHRA PRADESH  500 053\n",
       "7045        7046  ANDHRA PRADESH  500 029\n",
       "\n",
       "[1302 rows x 3 columns]"
      ]
     },
     "execution_count": 9,
     "metadata": {},
     "output_type": "execute_result"
    }
   ],
   "source": [
    "data[~data[\"Zip\"].apply(is_int)] # look at the value where it is not valid float value"
   ]
  },
  {
   "cell_type": "code",
   "execution_count": 10,
   "id": "4c260a80",
   "metadata": {},
   "outputs": [
    {
     "data": {
      "text/html": [
       "<div>\n",
       "<style scoped>\n",
       "    .dataframe tbody tr th:only-of-type {\n",
       "        vertical-align: middle;\n",
       "    }\n",
       "\n",
       "    .dataframe tbody tr th {\n",
       "        vertical-align: top;\n",
       "    }\n",
       "\n",
       "    .dataframe thead th {\n",
       "        text-align: right;\n",
       "    }\n",
       "</style>\n",
       "<table border=\"1\" class=\"dataframe\">\n",
       "  <thead>\n",
       "    <tr style=\"text-align: right;\">\n",
       "      <th></th>\n",
       "      <th>Unnamed: 0</th>\n",
       "      <th>State</th>\n",
       "      <th>Zip</th>\n",
       "    </tr>\n",
       "  </thead>\n",
       "  <tbody>\n",
       "    <tr>\n",
       "      <th>7</th>\n",
       "      <td>8</td>\n",
       "      <td>ANDHRA PRADESH</td>\n",
       "      <td>500457</td>\n",
       "    </tr>\n",
       "    <tr>\n",
       "      <th>9</th>\n",
       "      <td>10</td>\n",
       "      <td>ANDHRA PRADESH</td>\n",
       "      <td>505327</td>\n",
       "    </tr>\n",
       "    <tr>\n",
       "      <th>11</th>\n",
       "      <td>12</td>\n",
       "      <td>ANDHRA PRADESH</td>\n",
       "      <td>500361</td>\n",
       "    </tr>\n",
       "    <tr>\n",
       "      <th>12</th>\n",
       "      <td>13</td>\n",
       "      <td>ANDHRA PRADESH</td>\n",
       "      <td>500482</td>\n",
       "    </tr>\n",
       "    <tr>\n",
       "      <th>15</th>\n",
       "      <td>16</td>\n",
       "      <td>MAHARASHTRA</td>\n",
       "      <td>400079</td>\n",
       "    </tr>\n",
       "    <tr>\n",
       "      <th>...</th>\n",
       "      <td>...</td>\n",
       "      <td>...</td>\n",
       "      <td>...</td>\n",
       "    </tr>\n",
       "    <tr>\n",
       "      <th>8524</th>\n",
       "      <td>8525</td>\n",
       "      <td>T</td>\n",
       "      <td>501505</td>\n",
       "    </tr>\n",
       "    <tr>\n",
       "      <th>8525</th>\n",
       "      <td>8526</td>\n",
       "      <td>A</td>\n",
       "      <td>508374</td>\n",
       "    </tr>\n",
       "    <tr>\n",
       "      <th>8526</th>\n",
       "      <td>8527</td>\n",
       "      <td>T</td>\n",
       "      <td>504106</td>\n",
       "    </tr>\n",
       "    <tr>\n",
       "      <th>8527</th>\n",
       "      <td>8528</td>\n",
       "      <td>W</td>\n",
       "      <td>0</td>\n",
       "    </tr>\n",
       "    <tr>\n",
       "      <th>8528</th>\n",
       "      <td>8529</td>\n",
       "      <td>K</td>\n",
       "      <td>585403</td>\n",
       "    </tr>\n",
       "  </tbody>\n",
       "</table>\n",
       "<p>1719 rows × 3 columns</p>\n",
       "</div>"
      ],
      "text/plain": [
       "      Unnamed: 0           State     Zip\n",
       "7              8  ANDHRA PRADESH  500457\n",
       "9             10  ANDHRA PRADESH  505327\n",
       "11            12  ANDHRA PRADESH  500361\n",
       "12            13  ANDHRA PRADESH  500482\n",
       "15            16     MAHARASHTRA  400079\n",
       "...          ...             ...     ...\n",
       "8524        8525               T  501505\n",
       "8525        8526               A  508374\n",
       "8526        8527               T  504106\n",
       "8527        8528               W       0\n",
       "8528        8529               K  585403\n",
       "\n",
       "[1719 rows x 3 columns]"
      ]
     },
     "execution_count": 10,
     "metadata": {},
     "output_type": "execute_result"
    }
   ],
   "source": [
    "# store the valid  In Zip float value in the new data\n",
    "new_data=data[data[\"Zip\"].apply(is_int)]\n",
    "new_data"
   ]
  },
  {
   "cell_type": "code",
   "execution_count": 11,
   "id": "778e6bcc",
   "metadata": {},
   "outputs": [
    {
     "data": {
      "text/plain": [
       "Unnamed: 0    0\n",
       "State         0\n",
       "Zip           0\n",
       "dtype: int64"
      ]
     },
     "execution_count": 11,
     "metadata": {},
     "output_type": "execute_result"
    }
   ],
   "source": [
    "new_data.isna().sum() # check any nan value in the data"
   ]
  },
  {
   "cell_type": "code",
   "execution_count": 12,
   "id": "a09929e6",
   "metadata": {},
   "outputs": [
    {
     "name": "stderr",
     "output_type": "stream",
     "text": [
      "C:\\Users\\ccpoint\\AppData\\Local\\Temp\\ipykernel_1484\\1082117428.py:2: SettingWithCopyWarning: \n",
      "A value is trying to be set on a copy of a slice from a DataFrame.\n",
      "Try using .loc[row_indexer,col_indexer] = value instead\n",
      "\n",
      "See the caveats in the documentation: https://pandas.pydata.org/pandas-docs/stable/user_guide/indexing.html#returning-a-view-versus-a-copy\n",
      "  new_data[\"Zip\"] = new_data[\"Zip\"].astype('int64')\n"
     ]
    },
    {
     "data": {
      "text/plain": [
       "Unnamed: 0     int64\n",
       "State         object\n",
       "Zip            int64\n",
       "dtype: object"
      ]
     },
     "execution_count": 12,
     "metadata": {},
     "output_type": "execute_result"
    }
   ],
   "source": [
    "#convert object datatype into int data type\n",
    "new_data[\"Zip\"] = new_data[\"Zip\"].astype('int64')\n",
    "new_data.dtypes\n"
   ]
  },
  {
   "cell_type": "code",
   "execution_count": 13,
   "id": "69f74d12",
   "metadata": {},
   "outputs": [
    {
     "data": {
      "text/html": [
       "<div>\n",
       "<style scoped>\n",
       "    .dataframe tbody tr th:only-of-type {\n",
       "        vertical-align: middle;\n",
       "    }\n",
       "\n",
       "    .dataframe tbody tr th {\n",
       "        vertical-align: top;\n",
       "    }\n",
       "\n",
       "    .dataframe thead th {\n",
       "        text-align: right;\n",
       "    }\n",
       "</style>\n",
       "<table border=\"1\" class=\"dataframe\">\n",
       "  <thead>\n",
       "    <tr style=\"text-align: right;\">\n",
       "      <th></th>\n",
       "      <th>Unnamed: 0</th>\n",
       "      <th>State</th>\n",
       "      <th>Zip</th>\n",
       "    </tr>\n",
       "  </thead>\n",
       "  <tbody>\n",
       "    <tr>\n",
       "      <th>7</th>\n",
       "      <td>8</td>\n",
       "      <td>ANDHRA PRADESH</td>\n",
       "      <td>500457</td>\n",
       "    </tr>\n",
       "    <tr>\n",
       "      <th>9</th>\n",
       "      <td>10</td>\n",
       "      <td>ANDHRA PRADESH</td>\n",
       "      <td>505327</td>\n",
       "    </tr>\n",
       "    <tr>\n",
       "      <th>11</th>\n",
       "      <td>12</td>\n",
       "      <td>ANDHRA PRADESH</td>\n",
       "      <td>500361</td>\n",
       "    </tr>\n",
       "    <tr>\n",
       "      <th>12</th>\n",
       "      <td>13</td>\n",
       "      <td>ANDHRA PRADESH</td>\n",
       "      <td>500482</td>\n",
       "    </tr>\n",
       "    <tr>\n",
       "      <th>15</th>\n",
       "      <td>16</td>\n",
       "      <td>MAHARASHTRA</td>\n",
       "      <td>400079</td>\n",
       "    </tr>\n",
       "    <tr>\n",
       "      <th>...</th>\n",
       "      <td>...</td>\n",
       "      <td>...</td>\n",
       "      <td>...</td>\n",
       "    </tr>\n",
       "    <tr>\n",
       "      <th>8524</th>\n",
       "      <td>8525</td>\n",
       "      <td>T</td>\n",
       "      <td>501505</td>\n",
       "    </tr>\n",
       "    <tr>\n",
       "      <th>8525</th>\n",
       "      <td>8526</td>\n",
       "      <td>A</td>\n",
       "      <td>508374</td>\n",
       "    </tr>\n",
       "    <tr>\n",
       "      <th>8526</th>\n",
       "      <td>8527</td>\n",
       "      <td>T</td>\n",
       "      <td>504106</td>\n",
       "    </tr>\n",
       "    <tr>\n",
       "      <th>8527</th>\n",
       "      <td>8528</td>\n",
       "      <td>W</td>\n",
       "      <td>0</td>\n",
       "    </tr>\n",
       "    <tr>\n",
       "      <th>8528</th>\n",
       "      <td>8529</td>\n",
       "      <td>K</td>\n",
       "      <td>585403</td>\n",
       "    </tr>\n",
       "  </tbody>\n",
       "</table>\n",
       "<p>1719 rows × 3 columns</p>\n",
       "</div>"
      ],
      "text/plain": [
       "      Unnamed: 0           State     Zip\n",
       "7              8  ANDHRA PRADESH  500457\n",
       "9             10  ANDHRA PRADESH  505327\n",
       "11            12  ANDHRA PRADESH  500361\n",
       "12            13  ANDHRA PRADESH  500482\n",
       "15            16     MAHARASHTRA  400079\n",
       "...          ...             ...     ...\n",
       "8524        8525               T  501505\n",
       "8525        8526               A  508374\n",
       "8526        8527               T  504106\n",
       "8527        8528               W       0\n",
       "8528        8529               K  585403\n",
       "\n",
       "[1719 rows x 3 columns]"
      ]
     },
     "execution_count": 13,
     "metadata": {},
     "output_type": "execute_result"
    }
   ],
   "source": [
    "new_data"
   ]
  },
  {
   "cell_type": "markdown",
   "id": "0ed1c77c",
   "metadata": {},
   "source": [
    "**in the above result the pincode value length less than 6 digit but in india pin code length is 6 digits so solve it**"
   ]
  },
  {
   "cell_type": "code",
   "execution_count": 14,
   "id": "0d5dd390",
   "metadata": {},
   "outputs": [
    {
     "data": {
      "text/plain": [
       "7       500457\n",
       "9       505327\n",
       "11      500361\n",
       "12      500482\n",
       "15      400079\n",
       "         ...  \n",
       "8524    501505\n",
       "8525    508374\n",
       "8526    504106\n",
       "8527         0\n",
       "8528    585403\n",
       "Name: Zip, Length: 1693, dtype: int64"
      ]
     },
     "execution_count": 14,
     "metadata": {},
     "output_type": "execute_result"
    }
   ],
   "source": [
    "lnn=new_data['Zip'][new_data['Zip']<999999]# now store the Zip value have length not more than  6 digit\n",
    "lnn\n"
   ]
  },
  {
   "cell_type": "markdown",
   "id": "0d4ea947",
   "metadata": {},
   "source": [
    "**above result no any nan value and value in float so data is clean now data is useful**"
   ]
  },
  {
   "cell_type": "code",
   "execution_count": 24,
   "id": "aa5ef027",
   "metadata": {},
   "outputs": [
    {
     "name": "stderr",
     "output_type": "stream",
     "text": [
      "C:\\Users\\ccpoint\\AppData\\Local\\Temp\\ipykernel_1484\\2964655311.py:1: SettingWithCopyWarning: \n",
      "A value is trying to be set on a copy of a slice from a DataFrame.\n",
      "Try using .loc[row_indexer,col_indexer] = value instead\n",
      "\n",
      "See the caveats in the documentation: https://pandas.pydata.org/pandas-docs/stable/user_guide/indexing.html#returning-a-view-versus-a-copy\n",
      "  new_data[\"Zip\"]=lnn # store the Zip value\n"
     ]
    },
    {
     "data": {
      "text/html": [
       "<div>\n",
       "<style scoped>\n",
       "    .dataframe tbody tr th:only-of-type {\n",
       "        vertical-align: middle;\n",
       "    }\n",
       "\n",
       "    .dataframe tbody tr th {\n",
       "        vertical-align: top;\n",
       "    }\n",
       "\n",
       "    .dataframe thead th {\n",
       "        text-align: right;\n",
       "    }\n",
       "</style>\n",
       "<table border=\"1\" class=\"dataframe\">\n",
       "  <thead>\n",
       "    <tr style=\"text-align: right;\">\n",
       "      <th></th>\n",
       "      <th>Unnamed: 0</th>\n",
       "      <th>State</th>\n",
       "      <th>Zip</th>\n",
       "    </tr>\n",
       "  </thead>\n",
       "  <tbody>\n",
       "    <tr>\n",
       "      <th>7</th>\n",
       "      <td>8</td>\n",
       "      <td>ANDHRA PRADESH</td>\n",
       "      <td>500457</td>\n",
       "    </tr>\n",
       "    <tr>\n",
       "      <th>9</th>\n",
       "      <td>10</td>\n",
       "      <td>ANDHRA PRADESH</td>\n",
       "      <td>505327</td>\n",
       "    </tr>\n",
       "    <tr>\n",
       "      <th>11</th>\n",
       "      <td>12</td>\n",
       "      <td>ANDHRA PRADESH</td>\n",
       "      <td>500361</td>\n",
       "    </tr>\n",
       "    <tr>\n",
       "      <th>12</th>\n",
       "      <td>13</td>\n",
       "      <td>ANDHRA PRADESH</td>\n",
       "      <td>500482</td>\n",
       "    </tr>\n",
       "    <tr>\n",
       "      <th>15</th>\n",
       "      <td>16</td>\n",
       "      <td>MAHARASHTRA</td>\n",
       "      <td>400079</td>\n",
       "    </tr>\n",
       "    <tr>\n",
       "      <th>...</th>\n",
       "      <td>...</td>\n",
       "      <td>...</td>\n",
       "      <td>...</td>\n",
       "    </tr>\n",
       "    <tr>\n",
       "      <th>8522</th>\n",
       "      <td>8523</td>\n",
       "      <td>A</td>\n",
       "      <td>534416</td>\n",
       "    </tr>\n",
       "    <tr>\n",
       "      <th>8524</th>\n",
       "      <td>8525</td>\n",
       "      <td>T</td>\n",
       "      <td>501505</td>\n",
       "    </tr>\n",
       "    <tr>\n",
       "      <th>8525</th>\n",
       "      <td>8526</td>\n",
       "      <td>A</td>\n",
       "      <td>508374</td>\n",
       "    </tr>\n",
       "    <tr>\n",
       "      <th>8526</th>\n",
       "      <td>8527</td>\n",
       "      <td>T</td>\n",
       "      <td>504106</td>\n",
       "    </tr>\n",
       "    <tr>\n",
       "      <th>8528</th>\n",
       "      <td>8529</td>\n",
       "      <td>K</td>\n",
       "      <td>585403</td>\n",
       "    </tr>\n",
       "  </tbody>\n",
       "</table>\n",
       "<p>1535 rows × 3 columns</p>\n",
       "</div>"
      ],
      "text/plain": [
       "      Unnamed: 0           State     Zip\n",
       "7              8  ANDHRA PRADESH  500457\n",
       "9             10  ANDHRA PRADESH  505327\n",
       "11            12  ANDHRA PRADESH  500361\n",
       "12            13  ANDHRA PRADESH  500482\n",
       "15            16     MAHARASHTRA  400079\n",
       "...          ...             ...     ...\n",
       "8522        8523               A  534416\n",
       "8524        8525               T  501505\n",
       "8525        8526               A  508374\n",
       "8526        8527               T  504106\n",
       "8528        8529               K  585403\n",
       "\n",
       "[1535 rows x 3 columns]"
      ]
     },
     "execution_count": 24,
     "metadata": {},
     "output_type": "execute_result"
    }
   ],
   "source": [
    "new_data[\"Zip\"]=lnn # store the Zip value\n",
    "new_data"
   ]
  },
  {
   "cell_type": "markdown",
   "id": "5328b529",
   "metadata": {},
   "source": [
    "but above resut have a some  nan value now solve it"
   ]
  },
  {
   "cell_type": "code",
   "execution_count": 16,
   "id": "91661bf0",
   "metadata": {},
   "outputs": [
    {
     "data": {
      "text/plain": [
       "Unnamed: 0     0\n",
       "State          0\n",
       "Zip           26\n",
       "dtype: int64"
      ]
     },
     "execution_count": 16,
     "metadata": {},
     "output_type": "execute_result"
    }
   ],
   "source": [
    "new_data.isna().sum() # check how many nan value "
   ]
  },
  {
   "cell_type": "code",
   "execution_count": 17,
   "id": "cd46fda3",
   "metadata": {},
   "outputs": [
    {
     "data": {
      "text/plain": [
       "Unnamed: 0    0\n",
       "State         0\n",
       "Zip           0\n",
       "dtype: int64"
      ]
     },
     "execution_count": 17,
     "metadata": {},
     "output_type": "execute_result"
    }
   ],
   "source": [
    "new_data=new_data.dropna() # drop row have a nan value\n",
    "new_data.isna().sum() # again check the nan value\n"
   ]
  },
  {
   "cell_type": "code",
   "execution_count": 25,
   "id": "63531b61",
   "metadata": {},
   "outputs": [
    {
     "data": {
      "text/plain": [
       "7       500457\n",
       "9       505327\n",
       "11      500361\n",
       "12      500482\n",
       "15      400079\n",
       "         ...  \n",
       "8522    534416\n",
       "8524    501505\n",
       "8525    508374\n",
       "8526    504106\n",
       "8528    585403\n",
       "Name: Zip, Length: 1535, dtype: int64"
      ]
     },
     "execution_count": 25,
     "metadata": {},
     "output_type": "execute_result"
    }
   ],
   "source": [
    "lnn1=new_data['Zip'][new_data['Zip']>=100000]# now store the Zip value have length not less than  6 digit\n",
    "lnn1\n"
   ]
  },
  {
   "cell_type": "markdown",
   "id": "39c283c5",
   "metadata": {},
   "source": [
    "##  now our data is clean and useful "
   ]
  },
  {
   "cell_type": "code",
   "execution_count": 26,
   "id": "70621558",
   "metadata": {},
   "outputs": [
    {
     "name": "stderr",
     "output_type": "stream",
     "text": [
      "C:\\Users\\ccpoint\\AppData\\Local\\Temp\\ipykernel_1484\\1243914548.py:1: SettingWithCopyWarning: \n",
      "A value is trying to be set on a copy of a slice from a DataFrame.\n",
      "Try using .loc[row_indexer,col_indexer] = value instead\n",
      "\n",
      "See the caveats in the documentation: https://pandas.pydata.org/pandas-docs/stable/user_guide/indexing.html#returning-a-view-versus-a-copy\n",
      "  new_data[\"Zip\"]=lnn1 # store the Zip value\n"
     ]
    },
    {
     "data": {
      "text/html": [
       "<div>\n",
       "<style scoped>\n",
       "    .dataframe tbody tr th:only-of-type {\n",
       "        vertical-align: middle;\n",
       "    }\n",
       "\n",
       "    .dataframe tbody tr th {\n",
       "        vertical-align: top;\n",
       "    }\n",
       "\n",
       "    .dataframe thead th {\n",
       "        text-align: right;\n",
       "    }\n",
       "</style>\n",
       "<table border=\"1\" class=\"dataframe\">\n",
       "  <thead>\n",
       "    <tr style=\"text-align: right;\">\n",
       "      <th></th>\n",
       "      <th>Unnamed: 0</th>\n",
       "      <th>State</th>\n",
       "      <th>Zip</th>\n",
       "    </tr>\n",
       "  </thead>\n",
       "  <tbody>\n",
       "    <tr>\n",
       "      <th>7</th>\n",
       "      <td>8</td>\n",
       "      <td>ANDHRA PRADESH</td>\n",
       "      <td>500457</td>\n",
       "    </tr>\n",
       "    <tr>\n",
       "      <th>9</th>\n",
       "      <td>10</td>\n",
       "      <td>ANDHRA PRADESH</td>\n",
       "      <td>505327</td>\n",
       "    </tr>\n",
       "    <tr>\n",
       "      <th>11</th>\n",
       "      <td>12</td>\n",
       "      <td>ANDHRA PRADESH</td>\n",
       "      <td>500361</td>\n",
       "    </tr>\n",
       "    <tr>\n",
       "      <th>12</th>\n",
       "      <td>13</td>\n",
       "      <td>ANDHRA PRADESH</td>\n",
       "      <td>500482</td>\n",
       "    </tr>\n",
       "    <tr>\n",
       "      <th>15</th>\n",
       "      <td>16</td>\n",
       "      <td>MAHARASHTRA</td>\n",
       "      <td>400079</td>\n",
       "    </tr>\n",
       "    <tr>\n",
       "      <th>...</th>\n",
       "      <td>...</td>\n",
       "      <td>...</td>\n",
       "      <td>...</td>\n",
       "    </tr>\n",
       "    <tr>\n",
       "      <th>8522</th>\n",
       "      <td>8523</td>\n",
       "      <td>A</td>\n",
       "      <td>534416</td>\n",
       "    </tr>\n",
       "    <tr>\n",
       "      <th>8524</th>\n",
       "      <td>8525</td>\n",
       "      <td>T</td>\n",
       "      <td>501505</td>\n",
       "    </tr>\n",
       "    <tr>\n",
       "      <th>8525</th>\n",
       "      <td>8526</td>\n",
       "      <td>A</td>\n",
       "      <td>508374</td>\n",
       "    </tr>\n",
       "    <tr>\n",
       "      <th>8526</th>\n",
       "      <td>8527</td>\n",
       "      <td>T</td>\n",
       "      <td>504106</td>\n",
       "    </tr>\n",
       "    <tr>\n",
       "      <th>8528</th>\n",
       "      <td>8529</td>\n",
       "      <td>K</td>\n",
       "      <td>585403</td>\n",
       "    </tr>\n",
       "  </tbody>\n",
       "</table>\n",
       "<p>1535 rows × 3 columns</p>\n",
       "</div>"
      ],
      "text/plain": [
       "      Unnamed: 0           State     Zip\n",
       "7              8  ANDHRA PRADESH  500457\n",
       "9             10  ANDHRA PRADESH  505327\n",
       "11            12  ANDHRA PRADESH  500361\n",
       "12            13  ANDHRA PRADESH  500482\n",
       "15            16     MAHARASHTRA  400079\n",
       "...          ...             ...     ...\n",
       "8522        8523               A  534416\n",
       "8524        8525               T  501505\n",
       "8525        8526               A  508374\n",
       "8526        8527               T  504106\n",
       "8528        8529               K  585403\n",
       "\n",
       "[1535 rows x 3 columns]"
      ]
     },
     "execution_count": 26,
     "metadata": {},
     "output_type": "execute_result"
    }
   ],
   "source": [
    "new_data[\"Zip\"]=lnn1 # store the Zip value\n",
    "new_data"
   ]
  },
  {
   "cell_type": "code",
   "execution_count": 20,
   "id": "76488268",
   "metadata": {},
   "outputs": [
    {
     "data": {
      "text/plain": [
       "Unnamed: 0      0\n",
       "State           0\n",
       "Zip           158\n",
       "dtype: int64"
      ]
     },
     "execution_count": 20,
     "metadata": {},
     "output_type": "execute_result"
    }
   ],
   "source": [
    "new_data.isna().sum() # check how many nan value \n"
   ]
  },
  {
   "cell_type": "code",
   "execution_count": 21,
   "id": "07ba43bd",
   "metadata": {},
   "outputs": [
    {
     "data": {
      "text/plain": [
       "Unnamed: 0    0\n",
       "State         0\n",
       "Zip           0\n",
       "dtype: int64"
      ]
     },
     "execution_count": 21,
     "metadata": {},
     "output_type": "execute_result"
    }
   ],
   "source": [
    "new_data=new_data.dropna() # drop row have a nan value\n",
    "new_data.isna().sum() # again check the nan value"
   ]
  },
  {
   "cell_type": "code",
   "execution_count": 27,
   "id": "448e89a2",
   "metadata": {},
   "outputs": [
    {
     "data": {
      "text/html": [
       "<div>\n",
       "<style scoped>\n",
       "    .dataframe tbody tr th:only-of-type {\n",
       "        vertical-align: middle;\n",
       "    }\n",
       "\n",
       "    .dataframe tbody tr th {\n",
       "        vertical-align: top;\n",
       "    }\n",
       "\n",
       "    .dataframe thead th {\n",
       "        text-align: right;\n",
       "    }\n",
       "</style>\n",
       "<table border=\"1\" class=\"dataframe\">\n",
       "  <thead>\n",
       "    <tr style=\"text-align: right;\">\n",
       "      <th></th>\n",
       "      <th>Unnamed: 0</th>\n",
       "      <th>State</th>\n",
       "      <th>Zip</th>\n",
       "    </tr>\n",
       "  </thead>\n",
       "  <tbody>\n",
       "    <tr>\n",
       "      <th>7</th>\n",
       "      <td>8</td>\n",
       "      <td>ANDHRA PRADESH</td>\n",
       "      <td>500457</td>\n",
       "    </tr>\n",
       "    <tr>\n",
       "      <th>9</th>\n",
       "      <td>10</td>\n",
       "      <td>ANDHRA PRADESH</td>\n",
       "      <td>505327</td>\n",
       "    </tr>\n",
       "    <tr>\n",
       "      <th>11</th>\n",
       "      <td>12</td>\n",
       "      <td>ANDHRA PRADESH</td>\n",
       "      <td>500361</td>\n",
       "    </tr>\n",
       "    <tr>\n",
       "      <th>12</th>\n",
       "      <td>13</td>\n",
       "      <td>ANDHRA PRADESH</td>\n",
       "      <td>500482</td>\n",
       "    </tr>\n",
       "    <tr>\n",
       "      <th>15</th>\n",
       "      <td>16</td>\n",
       "      <td>MAHARASHTRA</td>\n",
       "      <td>400079</td>\n",
       "    </tr>\n",
       "    <tr>\n",
       "      <th>...</th>\n",
       "      <td>...</td>\n",
       "      <td>...</td>\n",
       "      <td>...</td>\n",
       "    </tr>\n",
       "    <tr>\n",
       "      <th>8522</th>\n",
       "      <td>8523</td>\n",
       "      <td>A</td>\n",
       "      <td>534416</td>\n",
       "    </tr>\n",
       "    <tr>\n",
       "      <th>8524</th>\n",
       "      <td>8525</td>\n",
       "      <td>T</td>\n",
       "      <td>501505</td>\n",
       "    </tr>\n",
       "    <tr>\n",
       "      <th>8525</th>\n",
       "      <td>8526</td>\n",
       "      <td>A</td>\n",
       "      <td>508374</td>\n",
       "    </tr>\n",
       "    <tr>\n",
       "      <th>8526</th>\n",
       "      <td>8527</td>\n",
       "      <td>T</td>\n",
       "      <td>504106</td>\n",
       "    </tr>\n",
       "    <tr>\n",
       "      <th>8528</th>\n",
       "      <td>8529</td>\n",
       "      <td>K</td>\n",
       "      <td>585403</td>\n",
       "    </tr>\n",
       "  </tbody>\n",
       "</table>\n",
       "<p>1535 rows × 3 columns</p>\n",
       "</div>"
      ],
      "text/plain": [
       "      Unnamed: 0           State     Zip\n",
       "7              8  ANDHRA PRADESH  500457\n",
       "9             10  ANDHRA PRADESH  505327\n",
       "11            12  ANDHRA PRADESH  500361\n",
       "12            13  ANDHRA PRADESH  500482\n",
       "15            16     MAHARASHTRA  400079\n",
       "...          ...             ...     ...\n",
       "8522        8523               A  534416\n",
       "8524        8525               T  501505\n",
       "8525        8526               A  508374\n",
       "8526        8527               T  504106\n",
       "8528        8529               K  585403\n",
       "\n",
       "[1535 rows x 3 columns]"
      ]
     },
     "execution_count": 27,
     "metadata": {},
     "output_type": "execute_result"
    }
   ],
   "source": [
    "new_data"
   ]
  },
  {
   "cell_type": "code",
   "execution_count": 28,
   "id": "0bfeb081",
   "metadata": {},
   "outputs": [],
   "source": [
    "# now save data in new file\n",
    "new_data.to_csv(\"C:\\\\Users\\\\ccpoint\\\\Desktop\\\\new__data1.csv\",index=False)"
   ]
  },
  {
   "cell_type": "code",
   "execution_count": null,
   "id": "a92da02c",
   "metadata": {},
   "outputs": [],
   "source": []
  },
  {
   "cell_type": "code",
   "execution_count": null,
   "id": "5b056229",
   "metadata": {},
   "outputs": [],
   "source": []
  }
 ],
 "metadata": {
  "kernelspec": {
   "display_name": "Python 3 (ipykernel)",
   "language": "python",
   "name": "python3"
  },
  "language_info": {
   "codemirror_mode": {
    "name": "ipython",
    "version": 3
   },
   "file_extension": ".py",
   "mimetype": "text/x-python",
   "name": "python",
   "nbconvert_exporter": "python",
   "pygments_lexer": "ipython3",
   "version": "3.9.12"
  }
 },
 "nbformat": 4,
 "nbformat_minor": 5
}
